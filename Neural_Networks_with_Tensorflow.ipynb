{
  "nbformat": 4,
  "nbformat_minor": 0,
  "metadata": {
    "colab": {
      "name": "Neural Networks with Tensorflow.ipynb",
      "provenance": []
    },
    "kernelspec": {
      "name": "python3",
      "display_name": "Python 3"
    },
    "accelerator": "GPU"
  },
  "cells": [
    {
      "cell_type": "markdown",
      "metadata": {
        "id": "QhKk4q8meZ_F"
      },
      "source": [
        "Created by Berkay Alan\n",
        "\n",
        "16 January, 2021\n",
        "\n",
        "Tensorflow by Andrew NG"
      ]
    },
    {
      "cell_type": "code",
      "metadata": {
        "id": "TS_yt4NHdGad"
      },
      "source": [
        "import numpy as np\n",
        "import pandas as pd\n",
        "import tensorflow as tf"
      ],
      "execution_count": 1,
      "outputs": []
    },
    {
      "cell_type": "code",
      "metadata": {
        "colab": {
          "base_uri": "https://localhost:8080/"
        },
        "id": "xu0f2MGHfnXU",
        "outputId": "8bd28976-ec65-4498-c698-4d373eab53bb"
      },
      "source": [
        "# We are adding it in order to use tf 2\n",
        "import tensorflow.compat.v1 as tf\n",
        "tf.disable_v2_behavior()"
      ],
      "execution_count": 2,
      "outputs": [
        {
          "output_type": "stream",
          "text": [
            "WARNING:tensorflow:From /usr/local/lib/python3.6/dist-packages/tensorflow/python/compat/v2_compat.py:96: disable_resource_variables (from tensorflow.python.ops.variable_scope) is deprecated and will be removed in a future version.\n",
            "Instructions for updating:\n",
            "non-resource variables are not supported in the long term\n"
          ],
          "name": "stdout"
        }
      ]
    },
    {
      "cell_type": "markdown",
      "metadata": {
        "id": "xlnE1dYLjpXd"
      },
      "source": [
        "## Tensorflow Basics"
      ]
    },
    {
      "cell_type": "markdown",
      "metadata": {
        "id": "SZZr4zgG01-h"
      },
      "source": [
        "### Defining a Constant"
      ]
    },
    {
      "cell_type": "code",
      "metadata": {
        "id": "-xvXSzil0_27"
      },
      "source": [
        "X = tf.constant(np.random.randn(3,1), name = \"X\")"
      ],
      "execution_count": 3,
      "outputs": []
    },
    {
      "cell_type": "code",
      "metadata": {
        "colab": {
          "base_uri": "https://localhost:8080/"
        },
        "id": "faT5S9G91OQg",
        "outputId": "5ac090af-4c68-4fe1-f65b-769f135c4ec6"
      },
      "source": [
        "X"
      ],
      "execution_count": 4,
      "outputs": [
        {
          "output_type": "execute_result",
          "data": {
            "text/plain": [
              "<tf.Tensor 'X:0' shape=(3, 1) dtype=float64>"
            ]
          },
          "metadata": {
            "tags": []
          },
          "execution_count": 4
        }
      ]
    },
    {
      "cell_type": "markdown",
      "metadata": {
        "id": "PpNM6pqK01vy"
      },
      "source": [
        "### Defining a Variable"
      ]
    },
    {
      "cell_type": "markdown",
      "metadata": {
        "id": "GhEWWH_YkbKm"
      },
      "source": [
        "Remember to initialize your variables, create a session and run the operations inside the session."
      ]
    },
    {
      "cell_type": "code",
      "metadata": {
        "colab": {
          "base_uri": "https://localhost:8080/"
        },
        "id": "RtIn73Pajp-G",
        "outputId": "008719a0-83a3-4c77-cb05-cffd93a1fa3b"
      },
      "source": [
        "a = tf.constant(4)\n",
        "b = tf.constant(21)\n",
        "c = tf.multiply(a,b)\n",
        "print(c) # It wont giive us 88, To do that, we need to run a session"
      ],
      "execution_count": 5,
      "outputs": [
        {
          "output_type": "stream",
          "text": [
            "Tensor(\"Mul:0\", shape=(), dtype=int32)\n"
          ],
          "name": "stdout"
        }
      ]
    },
    {
      "cell_type": "code",
      "metadata": {
        "colab": {
          "base_uri": "https://localhost:8080/"
        },
        "id": "askuHpHbjrBZ",
        "outputId": "2806d1ec-33f9-40f8-dbac-82280c12a2de"
      },
      "source": [
        "sess=tf.Session()\n",
        "print(sess.run(c))"
      ],
      "execution_count": 6,
      "outputs": [
        {
          "output_type": "stream",
          "text": [
            "84\n"
          ],
          "name": "stdout"
        }
      ]
    },
    {
      "cell_type": "markdown",
      "metadata": {
        "id": "v-cPNgrIk-WQ"
      },
      "source": [
        "A placeholder is an object whose value you can specify only later. To specify values for a placeholder, you can pass in values by using a \"feed dictionary\" (feed_dict variable). "
      ]
    },
    {
      "cell_type": "code",
      "metadata": {
        "colab": {
          "base_uri": "https://localhost:8080/"
        },
        "id": "M59mewEqjq86",
        "outputId": "386a30f1-29f5-4254-bf28-e4733a68d313"
      },
      "source": [
        "x = tf.placeholder(tf.int64, name = 'x')\n",
        "print(sess.run(2 * x, feed_dict = {x: 43}))\n",
        "sess.close()"
      ],
      "execution_count": 7,
      "outputs": [
        {
          "output_type": "stream",
          "text": [
            "86\n"
          ],
          "name": "stdout"
        }
      ]
    },
    {
      "cell_type": "markdown",
      "metadata": {
        "id": "XCzMzy8cluji"
      },
      "source": [
        "When you first defined x you did not have to specify a value for it. A placeholder is simply a variable that you will assign data to only later, when running the session. We say that you feed data to these placeholders when running the session."
      ]
    },
    {
      "cell_type": "markdown",
      "metadata": {
        "id": "FcrX3avL1V1U"
      },
      "source": [
        "### Matrix Multipication"
      ]
    },
    {
      "cell_type": "code",
      "metadata": {
        "id": "-5Be2Bv7jqyx"
      },
      "source": [
        "X = tf.constant(np.random.randn(3,1), name = \"X\")\n",
        "W = tf.constant(np.random.randn(4,3), name = \"W\")\n",
        "\n",
        "result = tf.matmul(W,X)"
      ],
      "execution_count": 8,
      "outputs": []
    },
    {
      "cell_type": "code",
      "metadata": {
        "id": "mwntv-wDjqse"
      },
      "source": [
        "session1 = tf.Session()\n",
        "result = session1.run(result)\n",
        "session1.close()"
      ],
      "execution_count": 9,
      "outputs": []
    },
    {
      "cell_type": "code",
      "metadata": {
        "colab": {
          "base_uri": "https://localhost:8080/"
        },
        "id": "8Jz5u43fjqj-",
        "outputId": "31936d77-bb8f-4480-ba68-2abc3290b94d"
      },
      "source": [
        "result"
      ],
      "execution_count": 10,
      "outputs": [
        {
          "output_type": "execute_result",
          "data": {
            "text/plain": [
              "array([[-0.5450509 ],\n",
              "       [ 0.35624022],\n",
              "       [ 0.35442552],\n",
              "       [-1.46158736]])"
            ]
          },
          "metadata": {
            "tags": []
          },
          "execution_count": 10
        }
      ]
    },
    {
      "cell_type": "markdown",
      "metadata": {
        "id": "uZMTk9uqjlLA"
      },
      "source": [
        "## Neural Network"
      ]
    },
    {
      "cell_type": "markdown",
      "metadata": {
        "id": "crPG1X3efyz5"
      },
      "source": [
        "Our cost Function is : (w^2-10w+25)"
      ]
    },
    {
      "cell_type": "code",
      "metadata": {
        "colab": {
          "base_uri": "https://localhost:8080/"
        },
        "id": "seb4V_9FdK7P",
        "outputId": "916d6128-03d4-4865-abd5-995715add8ed"
      },
      "source": [
        "w = tf.Variable(0,dtype= tf.float32)\n",
        "#cost = tf.add(tf.add(w**2,tf.multiply(-10.,w)),25)\n",
        "cost = w**2 -10*w+25\n",
        "train = tf.train.GradientDescentOptimizer(0.01).minimize(cost)\n",
        "\n",
        "init = tf.global_variables_initializer()\n",
        "session = tf.Session()\n",
        "session.run(init)\n",
        "print(session.run(w))"
      ],
      "execution_count": 11,
      "outputs": [
        {
          "output_type": "stream",
          "text": [
            "0.0\n"
          ],
          "name": "stdout"
        }
      ]
    },
    {
      "cell_type": "code",
      "metadata": {
        "colab": {
          "base_uri": "https://localhost:8080/"
        },
        "id": "qapt12XBdLCN",
        "outputId": "9ebe84cd-7edf-467f-ca3b-838ad89c1caf"
      },
      "source": [
        "session.run(train)\n",
        "print(session.run(w))"
      ],
      "execution_count": 12,
      "outputs": [
        {
          "output_type": "stream",
          "text": [
            "0.099999994\n"
          ],
          "name": "stdout"
        }
      ]
    },
    {
      "cell_type": "code",
      "metadata": {
        "colab": {
          "base_uri": "https://localhost:8080/"
        },
        "id": "oG338x-GdLHe",
        "outputId": "2a27475b-6319-4f55-937b-454084b1ca8e"
      },
      "source": [
        "for i in range(1000):\n",
        "  session.run(train)\n",
        "print(session.run(w))"
      ],
      "execution_count": 13,
      "outputs": [
        {
          "output_type": "stream",
          "text": [
            "4.999988\n"
          ],
          "name": "stdout"
        }
      ]
    },
    {
      "cell_type": "markdown",
      "metadata": {
        "id": "ePpnuMeeg72K"
      },
      "source": [
        "Adding a Train Data"
      ]
    },
    {
      "cell_type": "code",
      "metadata": {
        "colab": {
          "base_uri": "https://localhost:8080/"
        },
        "id": "uIaJllkpdLMm",
        "outputId": "ae9868be-0d38-400c-f0e7-de39e9fdf8d5"
      },
      "source": [
        "coefficient = np.array([[1.],[-20.],[100.]])\n",
        "\n",
        "w = tf.Variable(0,dtype= tf.float32)\n",
        "x = tf.placeholder(tf.float32,[3,1]) #Train data\n",
        "#cost = tf.add(tf.add(w**2,tf.multiply(-10.,w)),25)\n",
        "#cost = w**2 -10*w+25\n",
        "cost = x[0][0]*w**2 + x[1][0]*w + x[2][0]\n",
        "train = tf.train.GradientDescentOptimizer(0.01).minimize(cost)\n",
        "\n",
        "init = tf.global_variables_initializer()\n",
        "session = tf.Session()\n",
        "session.run(init)\n",
        "print(session.run(w))"
      ],
      "execution_count": 14,
      "outputs": [
        {
          "output_type": "stream",
          "text": [
            "0.0\n"
          ],
          "name": "stdout"
        }
      ]
    },
    {
      "cell_type": "code",
      "metadata": {
        "colab": {
          "base_uri": "https://localhost:8080/"
        },
        "id": "vaxGzCJ0dLQh",
        "outputId": "70deac90-8929-4f75-b2b4-4724ea48b903"
      },
      "source": [
        "session.run(train, feed_dict={x: coefficient})\n",
        "print(session.run(w))"
      ],
      "execution_count": 15,
      "outputs": [
        {
          "output_type": "stream",
          "text": [
            "0.19999999\n"
          ],
          "name": "stdout"
        }
      ]
    },
    {
      "cell_type": "code",
      "metadata": {
        "colab": {
          "base_uri": "https://localhost:8080/"
        },
        "id": "F0co8w3ddLU1",
        "outputId": "cb07dc08-2f86-4106-f298-223b465110f2"
      },
      "source": [
        "for i in range(1000):\n",
        "  session.run(train,feed_dict={x: coefficient})\n",
        "print(session.run(w))"
      ],
      "execution_count": 16,
      "outputs": [
        {
          "output_type": "stream",
          "text": [
            "9.999976\n"
          ],
          "name": "stdout"
        }
      ]
    }
  ]
}